{
  "nbformat": 4,
  "nbformat_minor": 0,
  "metadata": {
    "colab": {
      "name": "Midterm Exam.ipynb",
      "provenance": [],
      "authorship_tag": "ABX9TyN/G2wYiEvTmB6wb6BUlc/G",
      "include_colab_link": true
    },
    "kernelspec": {
      "name": "python3",
      "display_name": "Python 3"
    },
    "language_info": {
      "name": "python"
    }
  },
  "cells": [
    {
      "cell_type": "markdown",
      "metadata": {
        "id": "view-in-github",
        "colab_type": "text"
      },
      "source": [
        "<a href=\"https://colab.research.google.com/github/JanPatrickVilledo/CPEN-21A-ECE-2-3/blob/main/Midterm_Exam.ipynb\" target=\"_parent\"><img src=\"https://colab.research.google.com/assets/colab-badge.svg\" alt=\"Open In Colab\"/></a>"
      ]
    },
    {
      "cell_type": "markdown",
      "metadata": {
        "id": "YH5bjZs0sNSH"
      },
      "source": [
        "#Midterm Exam"
      ]
    },
    {
      "cell_type": "markdown",
      "metadata": {
        "id": "mGOek1YLshas"
      },
      "source": [
        "##PROBLEM STATEMENT 1."
      ]
    },
    {
      "cell_type": "code",
      "metadata": {
        "colab": {
          "base_uri": "https://localhost:8080/"
        },
        "id": "g7_DYYSisuUb",
        "outputId": "ce2eb8e8-e2b3-4ccc-dc6a-0f6173ad61b1"
      },
      "source": [
        "name = \"Jan Patrick M. Villedo\"\n",
        "number= \"202016649\"\n",
        "age = \"20 years old\"\n",
        "birthday = \"June 01, 2001\"\n",
        "address = \"B3 L49 Sampaguita St. Villa Luisa Homes Phase II San Agustin III, Dasmariñas City, Cavite\"\n",
        "course = \"Bachelor of Science in Electronics and Communication Engineering\"\n",
        "gwa = \"1.33\"\n",
        "print(\"a. Full Name:\" \" \"+name)  #a\n",
        "print(\"b. Student Number:\" \" \"+number)  #b\n",
        "print(\"c. Age:\" \" \"+age)  #c\n",
        "print(\"d. Birthday:\" \" \"+birthday)  #d\n",
        "print(\"e. Address:\" \" \"+address)  #e\n",
        "print(\"f. Course:\" \" \"+course)  #f\n",
        "print(\"g. Last Sem GWA:\" \" \"+gwa)  #g"
      ],
      "execution_count": 21,
      "outputs": [
        {
          "output_type": "stream",
          "name": "stdout",
          "text": [
            "a. Full Name: Jan Patrick M. Villedo\n",
            "b. Student Number: 202016649\n",
            "c. Age: 20 years old\n",
            "d. Birthday: June 01, 2001\n",
            "e. Address: B3 L49 Sampaguita St. Villa Luisa Homes Phase II San Agustin III, Dasmariñas City, Cavite\n",
            "f. Course: Bachelor of Science in Electronics and Communication Engineering\n",
            "g. Last Sem GWA: 1.33\n"
          ]
        }
      ]
    },
    {
      "cell_type": "markdown",
      "metadata": {
        "id": "urIgSWPPt8_a"
      },
      "source": [
        "##PROBLEM STATEMENT 2."
      ]
    },
    {
      "cell_type": "code",
      "metadata": {
        "colab": {
          "base_uri": "https://localhost:8080/"
        },
        "id": "yXf9bQ3Svp8O",
        "outputId": "be8a1d7e-6f76-47d6-83c1-880af2e696e1"
      },
      "source": [
        "n=4\n",
        "answ=\"Y\"\n",
        "\n",
        "print(\"a.\", (2<n) and (n<6))  #a\n",
        "print(\"b.\", (2<n) or (n==6))  #b\n",
        "print(\"c.\", not (2<n) or (n==6))  #c\n",
        "print(\"d.\", not (n<6))  #d\n",
        "print(\"e.\", (answ==\"Y\") or (answ==\"y\"))  #e\n",
        "print(\"f.\", (answ==\"Y\") and (answ==\"y\"))  #f\n",
        "print(\"g.\", not (answ==\"y\"))  #g\n",
        "print(\"h.\", ((2<n) and (n==5+1)) or (answ==\"No\"))  #h\n",
        "print(\"i.\", ((n==2) and (n==7)) or (answ==\"Y\"))  #i\n",
        "print(\"j.\",(n==2) and ((n==7) or (answ==\"Y\")))  #j"
      ],
      "execution_count": 26,
      "outputs": [
        {
          "output_type": "stream",
          "name": "stdout",
          "text": [
            "a. True\n",
            "b. True\n",
            "c. False\n",
            "d. False\n",
            "e. True\n",
            "f. False\n",
            "g. True\n",
            "h. False\n",
            "i. True\n",
            "j. False\n"
          ]
        }
      ]
    },
    {
      "cell_type": "markdown",
      "metadata": {
        "id": "FJRfOB68x9by"
      },
      "source": [
        "##PROBLEM STATEMENT 3."
      ]
    },
    {
      "cell_type": "code",
      "metadata": {
        "colab": {
          "base_uri": "https://localhost:8080/"
        },
        "id": "761AiXmmyETx",
        "outputId": "bfc13ba2-144a-4e79-dfb1-635bc33cae97"
      },
      "source": [
        "x=2\n",
        "y=-3\n",
        "w=7\n",
        "z=-10\n",
        "\n",
        "\n",
        "print(\"a.\", (x/y))  #a\n",
        "print(\"b.\", (w/y/x))  #b\n",
        "print(\"c.\",(z/y%x))  #c\n",
        "print(\"d.\", (x%-y*w))  #d\n",
        "print(\"e.\", (x%y))  #e\n",
        "print(\"f.\", (z%w-y/x*5+5))  #f\n",
        "print(\"g.\", (9-x%(2+y)))  #g\n",
        "print(\"h.\", (z//w))  #h\n",
        "print(\"i.\", ((2+y)**2))  #i\n",
        "print(\"j.\", (w/x*2))  #j"
      ],
      "execution_count": 31,
      "outputs": [
        {
          "output_type": "stream",
          "name": "stdout",
          "text": [
            "a. -0.6666666666666666\n",
            "b. -1.1666666666666667\n",
            "c. 1.3333333333333335\n",
            "d. 14\n",
            "e. -1\n",
            "f. 16.5\n",
            "g. 9\n",
            "h. -2\n",
            "i. 1\n",
            "j. 7.0\n"
          ]
        }
      ]
    }
  ]
}
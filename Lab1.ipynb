{
  "nbformat": 4,
  "nbformat_minor": 0,
  "metadata": {
    "colab": {
      "name": "Lab1.ipynb",
      "provenance": [],
      "authorship_tag": "ABX9TyOavJbc6FDANKYQ44j0wiY8",
      "include_colab_link": true
    },
    "kernelspec": {
      "name": "python3",
      "display_name": "Python 3"
    },
    "language_info": {
      "name": "python"
    }
  },
  "cells": [
    {
      "cell_type": "markdown",
      "metadata": {
        "id": "view-in-github",
        "colab_type": "text"
      },
      "source": [
        "<a href=\"https://colab.research.google.com/github/JanPatrickVilledo/CPEN-21A-ECE-2-3/blob/main/Lab1.ipynb\" target=\"_parent\"><img src=\"https://colab.research.google.com/assets/colab-badge.svg\" alt=\"Open In Colab\"/></a>"
      ]
    },
    {
      "cell_type": "markdown",
      "metadata": {
        "id": "L855W79InoGl"
      },
      "source": [
        "###Laboratory 1"
      ]
    },
    {
      "cell_type": "code",
      "metadata": {
        "colab": {
          "base_uri": "https://localhost:8080/"
        },
        "id": "HTQ7LkihgcVQ",
        "outputId": "d581e593-dcc5-4225-be6b-509a0388c54f"
      },
      "source": [
        "print(\"Welcome to Python Progamming\")"
      ],
      "execution_count": 17,
      "outputs": [
        {
          "output_type": "stream",
          "name": "stdout",
          "text": [
            "Welcome to Python Progamming\n"
          ]
        }
      ]
    },
    {
      "cell_type": "code",
      "metadata": {
        "colab": {
          "base_uri": "https://localhost:8080/"
        },
        "id": "lwEP5DAwh-dD",
        "outputId": "827c47e4-7d81-4e0e-97f2-eedb1a1535b8"
      },
      "source": [
        "name, age = \"Jan Patrick M. Villedo\", \"20\"\n",
        "address = \"B3 L49 Sampaguita St. Villa Luisa Homes Phase II San Agustin III, Dasmariñas City, Cavite\"\n",
        "print(\"Name:\"\" \"+ name)\n",
        "print (\"Age:\"\" \"+ age)\n",
        "print(\"Address:\"\" \"+ address)"
      ],
      "execution_count": 15,
      "outputs": [
        {
          "output_type": "stream",
          "name": "stdout",
          "text": [
            "Name: Jan Patrick M. Villedo\n",
            "Age: 20\n",
            "Address: B3 L49 Sampaguita St. Villa Luisa Homes Phase II San Agustin III, Dasmariñas City, Cavite\n"
          ]
        }
      ]
    }
  ]
}
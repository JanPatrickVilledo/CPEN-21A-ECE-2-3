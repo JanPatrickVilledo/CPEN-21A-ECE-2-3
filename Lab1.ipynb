{
  "nbformat": 4,
  "nbformat_minor": 0,
  "metadata": {
    "colab": {
      "name": "Lab1.ipynb",
      "provenance": [],
      "authorship_tag": "ABX9TyPSohZ+Frz/iwSRGHnnSEgm",
      "include_colab_link": true
    },
    "kernelspec": {
      "name": "python3",
      "display_name": "Python 3"
    },
    "language_info": {
      "name": "python"
    }
  },
  "cells": [
    {
      "cell_type": "markdown",
      "metadata": {
        "id": "view-in-github",
        "colab_type": "text"
      },
      "source": [
        "<a href=\"https://colab.research.google.com/github/JanPatrickVilledo/CPEN-21A-ECE-2-3/blob/main/Lab1.ipynb\" target=\"_parent\"><img src=\"https://colab.research.google.com/assets/colab-badge.svg\" alt=\"Open In Colab\"/></a>"
      ]
    },
    {
      "cell_type": "markdown",
      "metadata": {
        "id": "L855W79InoGl"
      },
      "source": [
        "###Laboratory 1"
      ]
    },
    {
      "cell_type": "code",
      "metadata": {
        "colab": {
          "base_uri": "https://localhost:8080/"
        },
        "id": "HTQ7LkihgcVQ",
        "outputId": "a42dd90f-49a9-47bb-a37a-7a74b9e8b78c"
      },
      "source": [
        "print(\"Welcome to Python Programming\")"
      ],
      "execution_count": null,
      "outputs": [
        {
          "output_type": "stream",
          "name": "stdout",
          "text": [
            "Welcome to Python Programming\n"
          ]
        }
      ]
    },
    {
      "cell_type": "code",
      "metadata": {
        "colab": {
          "base_uri": "https://localhost:8080/"
        },
        "id": "lwEP5DAwh-dD",
        "outputId": "8f00d6da-3991-4e7f-8232-b5a97bf7b91a"
      },
      "source": [
        "name, age = \"Jan Patrick M. Villedo\", \"20 years old\"\n",
        "address = \"B3 L49 Sampaguita St. Villa Luisa Homes Phase II San Agustin III, Dasmariñas City, Cavite\"\n",
        "print(\"Name:\" \" \"+ name)\n",
        "print(\"Address:\" \" \"+ address)\n",
        "print(\"Age:\" \" \"+ age)"
      ],
      "execution_count": 7,
      "outputs": [
        {
          "output_type": "stream",
          "name": "stdout",
          "text": [
            "Name: Jan Patrick M. Villedo\n",
            "Address: B3 L49 Sampaguita St. Villa Luisa Homes Phase II San Agustin III, Dasmariñas City, Cavite\n",
            "Age: 20 years old\n"
          ]
        }
      ]
    }
  ]
}
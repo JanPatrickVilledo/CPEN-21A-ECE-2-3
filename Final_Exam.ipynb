{
  "nbformat": 4,
  "nbformat_minor": 0,
  "metadata": {
    "colab": {
      "name": "Final Exam.ipynb",
      "provenance": [],
      "collapsed_sections": [],
      "authorship_tag": "ABX9TyOKntVxwQMRHcFk5ha3Rr+E",
      "include_colab_link": true
    },
    "kernelspec": {
      "name": "python3",
      "display_name": "Python 3"
    },
    "language_info": {
      "name": "python"
    }
  },
  "cells": [
    {
      "cell_type": "markdown",
      "metadata": {
        "id": "view-in-github",
        "colab_type": "text"
      },
      "source": [
        "<a href=\"https://colab.research.google.com/github/JanPatrickVilledo/CPEN-21A-ECE-2-3/blob/main/Final_Exam.ipynb\" target=\"_parent\"><img src=\"https://colab.research.google.com/assets/colab-badge.svg\" alt=\"Open In Colab\"/></a>"
      ]
    },
    {
      "cell_type": "markdown",
      "source": [
        "#Final Exam"
      ],
      "metadata": {
        "id": "5yTfXW9EboFo"
      }
    },
    {
      "cell_type": "markdown",
      "source": [
        "###Problem Statement 1."
      ],
      "metadata": {
        "id": "KFTrqhx7bxXa"
      }
    },
    {
      "cell_type": "code",
      "execution_count": 19,
      "metadata": {
        "colab": {
          "base_uri": "https://localhost:8080/"
        },
        "id": "sBSldqqOXD7N",
        "outputId": "6006ee2c-4f32-428b-fb04-bb3ddf19587d"
      },
      "outputs": [
        {
          "output_type": "stream",
          "name": "stdout",
          "text": [
            "The sum of 10 numbers less than 5 is: -5\n"
          ]
        }
      ],
      "source": [
        "#Create a Python program that will produce an output of sum of 10 numbers less than 5 using FOR LOOP statement.\n",
        "sum = 0\n",
        "num = (-5,-4,-3,-2,-1,0,1,2,3,4)\n",
        "\n",
        "for x in num:\n",
        "  sum+=x\n",
        "\n",
        "print(\"The sum of 10 numbers less than 5 is:\", sum)"
      ]
    },
    {
      "cell_type": "markdown",
      "source": [
        "###Problem Statement 2."
      ],
      "metadata": {
        "id": "ZcsDM8Yob8Fp"
      }
    },
    {
      "cell_type": "code",
      "source": [
        "#Create a Python program that will produce accept five numbers and determine the sum of first and last number among the five numbers entered using WHILE LOOP.\n",
        "i = 0\n",
        "first=0\n",
        "last=0\n",
        "\n",
        "while i<5:\n",
        "  user_input = float(input(\"Input a number: \"))\n",
        "  i+=1\n",
        "  if i==1:\n",
        "    first=user_input\n",
        "  elif i==5:\n",
        "    last=user_input\n",
        "print(\"The sum of first and last number is:\", first+last)"
      ],
      "metadata": {
        "colab": {
          "base_uri": "https://localhost:8080/"
        },
        "id": "G59ko5UnbJy3",
        "outputId": "914fd5e9-cb15-45bb-d387-661f69eec76e"
      },
      "execution_count": 21,
      "outputs": [
        {
          "output_type": "stream",
          "name": "stdout",
          "text": [
            "Input a number: 50.39\n",
            "Input a number: 45.22\n",
            "Input a number: 14.75\n",
            "Input a number: 12.65\n",
            "Input a number: 45.36\n",
            "The sum of first and last number is: 95.75\n"
          ]
        }
      ]
    },
    {
      "cell_type": "markdown",
      "source": [
        "###Problem Statement 3."
      ],
      "metadata": {
        "id": "4qqM-CJ9mLY7"
      }
    },
    {
      "cell_type": "code",
      "source": [
        "#Create a Python program to calculate student grades. It accepts a numerical grade as input and it will display the character grade as output based on the given scale:\n",
        "grade = float(input(\"Enter Student Grade: \"))\n",
        "\n",
        "if grade < 60:\n",
        "  print(\"Grade: F\")\n",
        "else:\n",
        "  if grade >= 60 and grade < 70:\n",
        "    print(\"Grade: D\")\n",
        "  else:\n",
        "    if grade >= 70 and grade < 80:\n",
        "      print(\"Grade: C\")\n",
        "    else:\n",
        "      if grade >= 80 and grade < 90:\n",
        "        print(\"Grade: B\")\n",
        "      else:\n",
        "        print(\"Grade:A\") "
      ],
      "metadata": {
        "colab": {
          "base_uri": "https://localhost:8080/"
        },
        "id": "-1gJORDGmQT2",
        "outputId": "b25ed22e-ec32-4c39-f0b2-0772937b35ae"
      },
      "execution_count": 25,
      "outputs": [
        {
          "output_type": "stream",
          "name": "stdout",
          "text": [
            "Enter Student Grade: 88.25\n",
            "Grade: B\n"
          ]
        }
      ]
    }
  ]
}